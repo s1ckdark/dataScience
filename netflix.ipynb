{
  "nbformat": 4,
  "nbformat_minor": 0,
  "metadata": {
    "colab": {
      "name": "netflix.ipynb",
      "private_outputs": true,
      "provenance": [],
      "collapsed_sections": [],
      "toc_visible": true,
      "authorship_tag": "ABX9TyMHr9xJL/7gqYI7n5b2G5X7",
      "include_colab_link": true
    },
    "kernelspec": {
      "name": "python3",
      "display_name": "Python 3"
    },
    "accelerator": "GPU"
  },
  "cells": [
    {
      "cell_type": "markdown",
      "metadata": {
        "id": "view-in-github",
        "colab_type": "text"
      },
      "source": [
        "<a href=\"https://colab.research.google.com/github/s1ckdark/dataScience/blob/main/netflix.ipynb\" target=\"_parent\"><img src=\"https://colab.research.google.com/assets/colab-badge.svg\" alt=\"Open In Colab\"/></a>"
      ]
    },
    {
      "cell_type": "code",
      "metadata": {
        "id": "_by17vlX3eAh"
      },
      "source": [
        "from google.colab import drive\n",
        "drive.mount('/content/drive')"
      ],
      "execution_count": null,
      "outputs": []
    },
    {
      "cell_type": "code",
      "metadata": {
        "id": "_UlYWa0A4hDU"
      },
      "source": [
        "import pandas as pd\n",
        "import numpy as np\n",
        "import matplotlib.pyplot as plt\n",
        "import seaborn as sns\n",
        "import missingno as msno\n",
        "import plotly.express as px\n",
        "import plotly.graph_objects as go\n",
        "\n",
        "import warnings \n",
        "warnings.filterwarnings(\"ignore\")\n",
        "\n",
        "#data import\n",
        "df=pd.read_csv(\"/content/drive/MyDrive/netflix_titles.csv\")\n",
        "print(df.head())\n",
        "print(df.info())"
      ],
      "execution_count": null,
      "outputs": []
    },
    {
      "cell_type": "code",
      "metadata": {
        "id": "9OSEFuUC8ctF"
      },
      "source": [
        "#missing value. 데이터셋에 빈값의 분포도를 확인할 수 있다.\n",
        "#흰색 부분이 빈 데이터\n",
        "msno.matrix(df) #chart\n",
        "msno.bar(df) #number"
      ],
      "execution_count": null,
      "outputs": []
    },
    {
      "cell_type": "code",
      "metadata": {
        "id": "tX8u2-pv87pw"
      },
      "source": [
        "#missing value rate \n",
        "for i in df.columns: \n",
        "  null_rate = df[i].isna().sum() / len(df) * 100 \n",
        "  if null_rate > 0 : \n",
        "    print(\"{}'s null rate :{}%\".format(i,round(null_rate,2)))"
      ],
      "execution_count": null,
      "outputs": []
    },
    {
      "cell_type": "code",
      "metadata": {
        "id": "ODDbQZlX9SnZ"
      },
      "source": [
        "#data를 groupby횄을때 결과. 이를 토대로 unique한 value는 show_id와 title\n",
        "df.nunique()"
      ],
      "execution_count": null,
      "outputs": []
    },
    {
      "cell_type": "code",
      "metadata": {
        "id": "GQaAcNsx9ndv"
      },
      "source": [
        "#missing value\n",
        "#missing value의 수치가 적은것\n",
        "df.isna().sum()"
      ],
      "execution_count": null,
      "outputs": []
    },
    {
      "cell_type": "code",
      "metadata": {
        "id": "pMPBoeql9v6b"
      },
      "source": [
        "#7개의 rating이 비어있는 column 확인\n",
        "df[df['rating'].isna()] "
      ],
      "execution_count": null,
      "outputs": []
    },
    {
      "cell_type": "code",
      "metadata": {
        "id": "3FBgQ1yHDb25"
      },
      "source": [
        "#missing value가 너무 많아서 director, cast, country는 drop\n",
        "df=df.drop(['director','cast','country'], axis=1)\n",
        "df.columns"
      ],
      "execution_count": null,
      "outputs": []
    },
    {
      "cell_type": "code",
      "metadata": {
        "id": "GoYlkMOAD49_"
      },
      "source": [
        "df = df[df['date_added'].notna()]\n",
        "df.isna().sum()"
      ],
      "execution_count": null,
      "outputs": []
    },
    {
      "cell_type": "code",
      "metadata": {
        "id": "t61YTpSuEdRt"
      },
      "source": [
        "df['rating'] = df['rating'].fillna(df['rating'].mode()[0])\n",
        "df.isna().sum()\n",
        "\n",
        "#missing value. 데이터셋에 빈값의 분포도를 확인할 수 있다.\n",
        "#흰색 부분이 빈 데이터\n",
        "msno.matrix(df) #chart\n",
        "msno.bar(df) #number"
      ],
      "execution_count": null,
      "outputs": []
    }
  ]
}